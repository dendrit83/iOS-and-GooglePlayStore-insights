{
 "cells": [
  {
   "cell_type": "markdown",
   "metadata": {},
   "source": [
    "# Insights from iOS and Google apps to increase revenue.\n",
    "***"
   ]
  },
  {
   "cell_type": "markdown",
   "metadata": {},
   "source": [
    "![](https://i0.wp.com/365webresources.com/wp-content/uploads/2016/01/Free-icons-AppStore-and-Google-Play.png?resize=758%2C367&ssl=1)"
   ]
  },
  {
   "cell_type": "markdown",
   "metadata": {},
   "source": [
    "***\n",
    "## Front matter\n",
    "> Our major goal is to give developers insights of what apps are attracting more users and are more profitable, so that they can make data driven decisions on what apps they build.\n",
    "> We are going to use data science tools to analyze and digest all the information, presenting the results in a friendly and intuitive way.\n",
    ">The project is divided into Stages for better understanding.\n",
    "\n",
    "***\n",
    "***\n",
    "\n",
    "\n",
    ">## Stage #1\n",
    "\n",
    "### Opening and Exploring the Data\n",
    "\n",
    "As of September 2018, there were approximately 2 million iOS apps available on the App Store, and 2.1 million Android apps on Google Play.\n",
    "\n",
    "These are two data sets that seem suitable for our purpose:\n",
    "\n",
    "   * A data set containing data about approximately ten thousand Android apps from Google Play. You can download the data set directly from this [link](https://www.kaggle.com/lava18/google-play-store-apps)\n",
    "   \n",
    "   * A data set containing data about approximately seven thousand iOS apps from the App Store. You can download the data set directly from this [link](https://www.kaggle.com/ramamet4/app-store-apple-data-set-10k-apps/data)\n",
    "\n",
    "#### Let's start by opening the two data sets and then continue with exploring the data : "
   ]
  },
  {
   "cell_type": "code",
   "execution_count": 88,
   "metadata": {},
   "outputs": [],
   "source": [
    "opener1 = open(\"./CSV files/AppleStore.csv\")\n",
    "opener2 = open(\"./CSV files/googleplaystore.csv\")"
   ]
  },
  {
   "cell_type": "code",
   "execution_count": 237,
   "metadata": {},
   "outputs": [],
   "source": [
    "from csv import reader\n",
    "read1 = csv.reader(opener1)\n",
    "read2 = csv.reader(opener2)"
   ]
  },
  {
   "cell_type": "code",
   "execution_count": 238,
   "metadata": {},
   "outputs": [],
   "source": [
    "appstore = list(read1) # The AppleStore dataset\n",
    "google = list(read2)   # The GooglePlay dataset"
   ]
  },
  {
   "cell_type": "markdown",
   "metadata": {},
   "source": [
    "#### Exploring the data... \n",
    "\n",
    "- Defining our first function `explore_data` to explore datasets quickly. You could choose to show the count of rows and columns. Default not showing."
   ]
  },
  {
   "cell_type": "code",
   "execution_count": 91,
   "metadata": {},
   "outputs": [],
   "source": [
    "def explore_data(dataset, start, end, rows_and_columns=False): # Takes any list of lists, and the rows to show as a slice.\n",
    "    \n",
    "    dataset_slice = dataset[start:end]\n",
    "    \n",
    "    for row in dataset_slice:\n",
    "        print(row)\n",
    "        print(\"\\n\") # adds a new (empty) line after each row\n",
    "    \n",
    "    \n",
    "    if rows_and_columns:\n",
    "        print(\"Number of rows: \", len(dataset))\n",
    "        print(\"Number of columns: \", len(dataset[0]))\n",
    "    \n",
    "    "
   ]
  },
  {
   "cell_type": "markdown",
   "metadata": {},
   "source": [
    "#### First we explore the AppleStore dataset we download..."
   ]
  },
  {
   "cell_type": "code",
   "execution_count": 92,
   "metadata": {},
   "outputs": [
    {
     "name": "stdout",
     "output_type": "stream",
     "text": [
      "['284882215', 'Facebook', '389879808', 'USD', '0.0', '2974676', '212', '3.5', '3.5', '95.0', '4+', 'Social Networking', '37', '1', '29', '1']\n",
      "\n",
      "\n",
      "['389801252', 'Instagram', '113954816', 'USD', '0.0', '2161558', '1289', '4.5', '4.0', '10.23', '12+', 'Photo & Video', '37', '0', '29', '1']\n",
      "\n",
      "\n",
      "['529479190', 'Clash of Clans', '116476928', 'USD', '0.0', '2130805', '579', '4.5', '4.5', '9.24.12', '9+', 'Games', '38', '5', '18', '1']\n",
      "\n",
      "\n",
      "Number of rows:  7198\n",
      "Number of columns:  16\n"
     ]
    }
   ],
   "source": [
    "explore_data(appstore, 1, 4 , rows_and_columns=True) # First 3 rows of Apple store apps.w/count."
   ]
  },
  {
   "cell_type": "code",
   "execution_count": 93,
   "metadata": {},
   "outputs": [
    {
     "name": "stdout",
     "output_type": "stream",
     "text": [
      "['id', 'track_name', 'size_bytes', 'currency', 'price', 'rating_count_tot', 'rating_count_ver', 'user_rating', 'user_rating_ver', 'ver', 'cont_rating', 'prime_genre', 'sup_devices.num', 'ipadSc_urls.num', 'lang.num', 'vpp_lic']\n"
     ]
    }
   ],
   "source": [
    "print(appstore[0]) # Showing the header columns of Apple store dataset."
   ]
  },
  {
   "cell_type": "markdown",
   "metadata": {},
   "source": [
    ">Interesting columns for our analysis could be \"track_name\", \"currency\", \"price\", \"rating_count_tot\", \"rating_count_ver\" and \"prime_genre\""
   ]
  },
  {
   "cell_type": "markdown",
   "metadata": {},
   "source": [
    "#### GooglePlay dataset explored...."
   ]
  },
  {
   "cell_type": "code",
   "execution_count": 94,
   "metadata": {},
   "outputs": [
    {
     "name": "stdout",
     "output_type": "stream",
     "text": [
      "['Photo Editor & Candy Camera & Grid & ScrapBook', 'ART_AND_DESIGN', '4.1', '159', '19M', '10,000+', 'Free', '0', 'Everyone', 'Art & Design', 'January 7, 2018', '1.0.0', '4.0.3 and up']\n",
      "\n",
      "\n",
      "['Coloring book moana', 'ART_AND_DESIGN', '3.9', '967', '14M', '500,000+', 'Free', '0', 'Everyone', 'Art & Design;Pretend Play', 'January 15, 2018', '2.0.0', '4.0.3 and up']\n",
      "\n",
      "\n",
      "['U Launcher Lite – FREE Live Cool Themes, Hide Apps', 'ART_AND_DESIGN', '4.7', '87510', '8.7M', '5,000,000+', 'Free', '0', 'Everyone', 'Art & Design', 'August 1, 2018', '1.2.4', '4.0.3 and up']\n",
      "\n",
      "\n",
      "Number of rows:  10842\n",
      "Number of columns:  13\n"
     ]
    }
   ],
   "source": [
    "explore_data(google, 1, 4, rows_and_columns=True) # First 3 rows of Google play apps.w/count."
   ]
  },
  {
   "cell_type": "code",
   "execution_count": 95,
   "metadata": {},
   "outputs": [
    {
     "name": "stdout",
     "output_type": "stream",
     "text": [
      "['App', 'Category', 'Rating', 'Reviews', 'Size', 'Installs', 'Type', 'Price', 'Content Rating', 'Genres', 'Last Updated', 'Current Ver', 'Android Ver']\n"
     ]
    }
   ],
   "source": [
    "print(google[0]) # Showing the header columns of Google play dataset."
   ]
  },
  {
   "cell_type": "markdown",
   "metadata": {},
   "source": [
    ">Interesting columns here could be: \"Reviews\", \"Installs\", \"Price\", \"Content rating\", \"Genres\", \"type\""
   ]
  },
  {
   "cell_type": "markdown",
   "metadata": {},
   "source": [
    "---\n",
    "#### * For detailed description of the datasets please visit [iOS apps](https://www.kaggle.com/ramamet4/app-store-apple-data-set-10k-apps/data), [Google apps](https://www.kaggle.com/lava18/google-play-store-apps)\n",
    "---"
   ]
  },
  {
   "cell_type": "markdown",
   "metadata": {},
   "source": [
    "* Reading the documentation of the datasets we found that one entry of the googleplay database has one error, so our first step to clean the data is to remove it."
   ]
  },
  {
   "cell_type": "code",
   "execution_count": 96,
   "metadata": {},
   "outputs": [],
   "source": [
    "del google[10473] #deleting a row with missing value. Info taken from documentation web."
   ]
  },
  {
   "cell_type": "markdown",
   "metadata": {},
   "source": [
    "### Extracting the Headers"
   ]
  },
  {
   "cell_type": "code",
   "execution_count": 98,
   "metadata": {},
   "outputs": [],
   "source": [
    "google_header = google[0]\n",
    "google = google[1:]"
   ]
  },
  {
   "cell_type": "code",
   "execution_count": 99,
   "metadata": {},
   "outputs": [],
   "source": [
    "appstore_header = appstore[0]\n",
    "appstore = appstore[1:]"
   ]
  },
  {
   "cell_type": "markdown",
   "metadata": {},
   "source": [
    ">## Stage # 2 \n",
    "\n",
    "\n",
    "### Functions to search duplicates and row lenght errors."
   ]
  },
  {
   "cell_type": "code",
   "execution_count": 100,
   "metadata": {},
   "outputs": [],
   "source": [
    "def check_rows(dataset, rows):\n",
    "    \n",
    "    wrong_rows = []\n",
    "    \n",
    "    for row in dataset:\n",
    "        if len(row) != rows:\n",
    "            wrong_rows.append(row)\n",
    "    \n",
    "    if len(wrong_rows) == 0:\n",
    "        print(\"All rows with same lenght\")\n",
    "        \n",
    "    \n",
    "    return wrong_rows\n",
    "\n",
    "def check_dup(dataset):\n",
    "    \n",
    "    duplicates = []\n",
    "    \n",
    "    unique = []\n",
    "    \n",
    "    for row in dataset:\n",
    "        name = row[0]\n",
    "        reviews = row[3]\n",
    "        \n",
    "        if name in unique:\n",
    "            duplicates.append(name)\n",
    "        \n",
    "        else:\n",
    "            unique.append(name)\n",
    "    \n",
    "    return \"N of duplicates: \", len(duplicates)"
   ]
  },
  {
   "cell_type": "code",
   "execution_count": 101,
   "metadata": {},
   "outputs": [
    {
     "name": "stdout",
     "output_type": "stream",
     "text": [
      "All rows with same lenght\n"
     ]
    },
    {
     "data": {
      "text/plain": [
       "[]"
      ]
     },
     "execution_count": 101,
     "metadata": {},
     "output_type": "execute_result"
    }
   ],
   "source": [
    "check_rows(google, 13) # Checking errors in google apps rows!!"
   ]
  },
  {
   "cell_type": "code",
   "execution_count": 102,
   "metadata": {},
   "outputs": [
    {
     "name": "stdout",
     "output_type": "stream",
     "text": [
      "All rows with same lenght\n"
     ]
    },
    {
     "data": {
      "text/plain": [
       "[]"
      ]
     },
     "execution_count": 102,
     "metadata": {},
     "output_type": "execute_result"
    }
   ],
   "source": [
    "check_rows(appstore, 16) # Checking errors in appstore apps rows!!!"
   ]
  },
  {
   "cell_type": "code",
   "execution_count": 103,
   "metadata": {},
   "outputs": [
    {
     "data": {
      "text/plain": [
       "('N of duplicates: ', 1181)"
      ]
     },
     "execution_count": 103,
     "metadata": {},
     "output_type": "execute_result"
    }
   ],
   "source": [
    "check_dup(google) # Checking duplicates in google dataset."
   ]
  },
  {
   "cell_type": "markdown",
   "metadata": {},
   "source": [
    "* We found 1181 duplicates in GooglePlay store, we won't remove them randomly, we are going to leave the duplicate with the most reviews, interpreted as the updated row.!!"
   ]
  },
  {
   "cell_type": "code",
   "execution_count": 104,
   "metadata": {},
   "outputs": [
    {
     "data": {
      "text/plain": [
       "('N of duplicates: ', 0)"
      ]
     },
     "execution_count": 104,
     "metadata": {},
     "output_type": "execute_result"
    }
   ],
   "source": [
    "check_dup(appstore) # Checking duplicates in apple store."
   ]
  },
  {
   "cell_type": "markdown",
   "metadata": {},
   "source": [
    "* Now lets remove the duplicates from the google apps dataset so it keeps just the unique apps more updated in reviews."
   ]
  },
  {
   "cell_type": "markdown",
   "metadata": {},
   "source": [
    "* First we define a function to select the mostly reviewed duplicate."
   ]
  },
  {
   "cell_type": "code",
   "execution_count": 105,
   "metadata": {},
   "outputs": [
    {
     "data": {
      "text/plain": [
       "['App',\n",
       " 'Category',\n",
       " 'Rating',\n",
       " 'Reviews',\n",
       " 'Size',\n",
       " 'Installs',\n",
       " 'Type',\n",
       " 'Price',\n",
       " 'Content Rating',\n",
       " 'Genres',\n",
       " 'Last Updated',\n",
       " 'Current Ver',\n",
       " 'Android Ver']"
      ]
     },
     "execution_count": 105,
     "metadata": {},
     "output_type": "execute_result"
    }
   ],
   "source": [
    "google_header"
   ]
  },
  {
   "cell_type": "code",
   "execution_count": 106,
   "metadata": {},
   "outputs": [],
   "source": [
    "def clean_data(dataset):\n",
    "    \n",
    "    reviews_max = {}\n",
    "    \n",
    "    clean_list = []\n",
    "    \n",
    "    added = []\n",
    "    \n",
    "    for app in dataset:\n",
    "        \n",
    "        name = app[0]\n",
    "        rev = float(app[3])\n",
    "        \n",
    "        if name not in reviews_max:\n",
    "            reviews_max[name] = rev\n",
    "        \n",
    "        elif name in reviews_max and reviews_max[name] < rev:\n",
    "            reviews_max[name] = rev\n",
    "            \n",
    "    for app in dataset:\n",
    "        \n",
    "        name = app[0]\n",
    "        rev = float(app[3])\n",
    "        \n",
    "        if name not in added and rev == reviews_max[name]:\n",
    "            clean_list.append(app)\n",
    "            added.append(name)\n",
    "            \n",
    "    return clean_list\n",
    "            "
   ]
  },
  {
   "cell_type": "code",
   "execution_count": 107,
   "metadata": {},
   "outputs": [
    {
     "name": "stdout",
     "output_type": "stream",
     "text": [
      "Expected lenght after removing duplicates:  9659\n"
     ]
    }
   ],
   "source": [
    "print(\"Expected lenght after removing duplicates: \", len(google) - 1181) # Calculating the expected number of rows after removing duplicates"
   ]
  },
  {
   "cell_type": "code",
   "execution_count": 108,
   "metadata": {},
   "outputs": [
    {
     "data": {
      "text/plain": [
       "9659"
      ]
     },
     "execution_count": 108,
     "metadata": {},
     "output_type": "execute_result"
    }
   ],
   "source": [
    "len(clean_data(google)) # Measuring the lenght of the data set after cleaning function."
   ]
  },
  {
   "cell_type": "code",
   "execution_count": 109,
   "metadata": {},
   "outputs": [
    {
     "name": "stdout",
     "output_type": "stream",
     "text": [
      "['Photo Editor & Candy Camera & Grid & ScrapBook', 'ART_AND_DESIGN', '4.1', '159', '19M', '10,000+', 'Free', '0', 'Everyone', 'Art & Design', 'January 7, 2018', '1.0.0', '4.0.3 and up']\n",
      "\n",
      "\n",
      "['U Launcher Lite – FREE Live Cool Themes, Hide Apps', 'ART_AND_DESIGN', '4.7', '87510', '8.7M', '5,000,000+', 'Free', '0', 'Everyone', 'Art & Design', 'August 1, 2018', '1.2.4', '4.0.3 and up']\n",
      "\n",
      "\n",
      "['Sketch - Draw & Paint', 'ART_AND_DESIGN', '4.5', '215644', '25M', '50,000,000+', 'Free', '0', 'Teen', 'Art & Design', 'June 8, 2018', 'Varies with device', '4.2 and up']\n",
      "\n",
      "\n",
      "Number of rows:  9659\n",
      "Number of columns:  13\n"
     ]
    }
   ],
   "source": [
    "google_clean = clean_data(google)\n",
    "explore_data(google_clean, 0, 3, True)"
   ]
  },
  {
   "cell_type": "markdown",
   "metadata": {},
   "source": [
    ">#### **Expected lenght equals the actual lenght. ;)"
   ]
  },
  {
   "cell_type": "markdown",
   "metadata": {},
   "source": [
    "> ### We've got our list with no duplicates and updated, Now lets eliminate non english apps."
   ]
  },
  {
   "cell_type": "markdown",
   "metadata": {},
   "source": [
    ">** We are going to build a function that use ASCI property of english characters to filter the apps so only english apps are put in our new cleaner list. If the app name has more than 3 characters 127 ASCI or more its going to be remove.\n",
    ">\n",
    ">Lets begin.."
   ]
  },
  {
   "cell_type": "code",
   "execution_count": 127,
   "metadata": {},
   "outputs": [],
   "source": [
    "def english_check(string):  #This function asses if a string is english or not.\n",
    "    \n",
    "    non_ascii = 0\n",
    "    \n",
    "    \n",
    "    for character in string:\n",
    "        if ord(character) > 127:\n",
    "            non_ascii += 1\n",
    "    \n",
    "    \n",
    "    if non_ascii > 3:\n",
    "        \n",
    "        return False\n",
    "    \n",
    "    else:\n",
    "        \n",
    "        return True    "
   ]
  },
  {
   "cell_type": "code",
   "execution_count": 240,
   "metadata": {},
   "outputs": [
    {
     "data": {
      "text/plain": [
       "False"
      ]
     },
     "execution_count": 240,
     "metadata": {},
     "output_type": "execute_result"
    }
   ],
   "source": [
    "english_check('爱奇艺PPS -《欢乐颂2》电视剧热播') # This app is not of our interest."
   ]
  },
  {
   "cell_type": "markdown",
   "metadata": {},
   "source": [
    "#### Now the main funcion: `clean_language`"
   ]
  },
  {
   "cell_type": "code",
   "execution_count": 138,
   "metadata": {},
   "outputs": [],
   "source": [
    "def clean_language(dataset, name_index): # Takes one dataset, and the index (because each dataset has different indexes for the name column)\n",
    "    \n",
    "    clean_2 = []\n",
    "    \n",
    "    non_eng_apps = []\n",
    "    \n",
    "    for row in dataset:\n",
    "        name = row[name_index]\n",
    "        \n",
    "        if english_check(name):\n",
    "            clean_2.append(row)\n",
    "        \n",
    "        else:\n",
    "            non_eng_apps.append(row)\n",
    "    \n",
    "    return clean_2, \"N of non english apps: \", len(non_eng_apps)        "
   ]
  },
  {
   "cell_type": "code",
   "execution_count": 139,
   "metadata": {},
   "outputs": [
    {
     "data": {
      "text/plain": [
       "7197"
      ]
     },
     "execution_count": 139,
     "metadata": {},
     "output_type": "execute_result"
    }
   ],
   "source": [
    "len(appstore)"
   ]
  },
  {
   "cell_type": "code",
   "execution_count": 140,
   "metadata": {},
   "outputs": [],
   "source": [
    "apple_clean = clean_language(appstore, 1)[0]"
   ]
  },
  {
   "cell_type": "code",
   "execution_count": 141,
   "metadata": {},
   "outputs": [
    {
     "data": {
      "text/plain": [
       "6183"
      ]
     },
     "execution_count": 141,
     "metadata": {},
     "output_type": "execute_result"
    }
   ],
   "source": [
    "len(apple_clean)"
   ]
  },
  {
   "cell_type": "markdown",
   "metadata": {},
   "source": [
    "> We keep only with 6183 apple apps, after removing non english ones."
   ]
  },
  {
   "cell_type": "code",
   "execution_count": 142,
   "metadata": {},
   "outputs": [],
   "source": [
    "google_english_only = clean_language(google_clean, 0)[0]"
   ]
  },
  {
   "cell_type": "code",
   "execution_count": 143,
   "metadata": {},
   "outputs": [
    {
     "data": {
      "text/plain": [
       "9614"
      ]
     },
     "execution_count": 143,
     "metadata": {},
     "output_type": "execute_result"
    }
   ],
   "source": [
    "len(google_english_only)"
   ]
  },
  {
   "cell_type": "code",
   "execution_count": 145,
   "metadata": {},
   "outputs": [
    {
     "data": {
      "text/plain": [
       "('N of non english apps: ', 45)"
      ]
     },
     "execution_count": 145,
     "metadata": {},
     "output_type": "execute_result"
    }
   ],
   "source": [
    "clean_language(google_clean, 0)[1:]"
   ]
  },
  {
   "cell_type": "markdown",
   "metadata": {},
   "source": [
    ">45 apps were non english and been removed from google_clean list, the new list updated is google_english_only. and the new apple dataset is apple_clean. Both are updated with most reviews and only with english apps."
   ]
  },
  {
   "cell_type": "markdown",
   "metadata": {},
   "source": [
    ">### Lastly we are going to keep only the free apps, because our company gets revenue from in ads exclusively. "
   ]
  },
  {
   "cell_type": "markdown",
   "metadata": {},
   "source": [
    ">For that purpose we need to create a function that filters and remove all the non free apps, evaluated as the price > or == to 0.0 in the apple data set, and using the column **type** in the google dataset. \n",
    "Lets do this last cleaning step...."
   ]
  },
  {
   "cell_type": "code",
   "execution_count": 158,
   "metadata": {},
   "outputs": [
    {
     "data": {
      "text/plain": [
       "(['App',\n",
       "  'Category',\n",
       "  'Rating',\n",
       "  'Reviews',\n",
       "  'Size',\n",
       "  'Installs',\n",
       "  'Type',\n",
       "  'Price',\n",
       "  'Content Rating',\n",
       "  'Genres',\n",
       "  'Last Updated',\n",
       "  'Current Ver',\n",
       "  'Android Ver'],\n",
       " ['id',\n",
       "  'track_name',\n",
       "  'size_bytes',\n",
       "  'currency',\n",
       "  'price',\n",
       "  'rating_count_tot',\n",
       "  'rating_count_ver',\n",
       "  'user_rating',\n",
       "  'user_rating_ver',\n",
       "  'ver',\n",
       "  'cont_rating',\n",
       "  'prime_genre',\n",
       "  'sup_devices.num',\n",
       "  'ipadSc_urls.num',\n",
       "  'lang.num',\n",
       "  'vpp_lic'])"
      ]
     },
     "execution_count": 158,
     "metadata": {},
     "output_type": "execute_result"
    }
   ],
   "source": [
    "google_header, appstore_header"
   ]
  },
  {
   "cell_type": "code",
   "execution_count": 241,
   "metadata": {},
   "outputs": [],
   "source": [
    "def free_google(dataset):\n",
    "    \n",
    "    final_google = []\n",
    "    \n",
    "    for row in dataset:\n",
    "        \n",
    "        if row[6] == \"Free\":\n",
    "            final_google.append(row)\n",
    "    \n",
    "    \n",
    "    return final_google"
   ]
  },
  {
   "cell_type": "code",
   "execution_count": 242,
   "metadata": {},
   "outputs": [],
   "source": [
    "final_google = free_google(google_english_only) #final clean of GooglePlay dataset."
   ]
  },
  {
   "cell_type": "code",
   "execution_count": 243,
   "metadata": {},
   "outputs": [
    {
     "data": {
      "text/plain": [
       "8863"
      ]
     },
     "execution_count": 243,
     "metadata": {},
     "output_type": "execute_result"
    }
   ],
   "source": [
    "len(final_google)"
   ]
  },
  {
   "cell_type": "markdown",
   "metadata": {},
   "source": [
    ">We are left with 8863 google apps, filtered updated, english only and Free."
   ]
  },
  {
   "cell_type": "code",
   "execution_count": 244,
   "metadata": {},
   "outputs": [],
   "source": [
    "def free_apple(dataset):\n",
    "    \n",
    "    final_apple = []\n",
    "    \n",
    "    for row in dataset:\n",
    "        if row[4] == \"0.0\":\n",
    "            final_apple.append(row)\n",
    "        \n",
    "    \n",
    "    return final_apple"
   ]
  },
  {
   "cell_type": "code",
   "execution_count": 245,
   "metadata": {},
   "outputs": [],
   "source": [
    "final_apple = free_apple(apple_clean) "
   ]
  },
  {
   "cell_type": "code",
   "execution_count": 246,
   "metadata": {},
   "outputs": [
    {
     "data": {
      "text/plain": [
       "3222"
      ]
     },
     "execution_count": 246,
     "metadata": {},
     "output_type": "execute_result"
    }
   ],
   "source": [
    "len(final_apple)"
   ]
  },
  {
   "cell_type": "markdown",
   "metadata": {},
   "source": [
    "***\n",
    "***\n",
    ">We are left with 3222 AppleStore apps, that are Free, english only and updated.\n",
    "***\n",
    "***"
   ]
  },
  {
   "cell_type": "markdown",
   "metadata": {},
   "source": [
    "> ## Stage # 3\n",
    "\n",
    "As we mentioned in the introduction, our aim is to determine the kinds of apps that are likely to attract more users because our revenue is highly influenced by the number of people using our apps.\n",
    "\n",
    "---\n",
    "\n",
    "* To minimize risks and overhead, our validation strategy for an app idea is comprised of three steps:\n",
    "\n",
    "   - Build a minimal Android version of the app, and add it to Google Play.\n",
    "   - If the app has a good response from users, we then develop it further.\n",
    "   - If the app is profitable after six months, we also build an iOS version of the app and add it to the App Store.\n",
    "\n",
    "---\n",
    "\n",
    "Because our end goal is to add the app on both the App Store and Google Play, we need to find **app profiles** that are successful on both markets. For instance, a profile that might work well for both markets might be a productivity app that makes use of gamification."
   ]
  },
  {
   "cell_type": "markdown",
   "metadata": {},
   "source": [
    "### Let's begin the analysis by getting a sense of the most common genres for each market. \n",
    "\n",
    ">* For this, we build a function `display_table()` that uses our `freq_table()` fx, for the **prime_genre** column of the App Store data set, and the **Genres** and **Category** columns of the GooglePlay data set."
   ]
  },
  {
   "cell_type": "code",
   "execution_count": 247,
   "metadata": {},
   "outputs": [],
   "source": [
    "def freq_table(dataset, index):\n",
    "    \n",
    "    freq = {}\n",
    "    \n",
    "    total = 0\n",
    "    \n",
    "    for row in dataset:\n",
    "        total += 1\n",
    "        value = row[index]\n",
    "        \n",
    "        if value in freq:\n",
    "            freq[value] += 1\n",
    "        else:\n",
    "            freq[value] = 1\n",
    "        \n",
    "    table_percent = {}\n",
    "    \n",
    "    for key in freq:\n",
    "        percent = (freq[key] / total) * 100\n",
    "        table_percent[key] = percent\n",
    "        \n",
    "    \n",
    "    return table_percent"
   ]
  },
  {
   "cell_type": "code",
   "execution_count": 254,
   "metadata": {},
   "outputs": [],
   "source": [
    "def display_table(dataset, index):\n",
    "    \n",
    "    table = freq_table(dataset, index)\n",
    "    \n",
    "    table_display = []\n",
    "    \n",
    "    for key in table:\n",
    "        key_val_as_tuple = (table[key], key)\n",
    "        table_display.append(key_val_as_tuple)\n",
    "        \n",
    "    \n",
    "    table_sorted = sorted(table_display, reverse = True)\n",
    "    \n",
    "    for entry in table_sorted:\n",
    "    \n",
    "        print(entry[1], \":\", round(entry[0],2),\"%\")"
   ]
  },
  {
   "cell_type": "code",
   "execution_count": 258,
   "metadata": {},
   "outputs": [
    {
     "data": {
      "text/plain": [
       "['id',\n",
       " 'track_name',\n",
       " 'size_bytes',\n",
       " 'currency',\n",
       " 'price',\n",
       " 'rating_count_tot',\n",
       " 'rating_count_ver',\n",
       " 'user_rating',\n",
       " 'user_rating_ver',\n",
       " 'ver',\n",
       " 'cont_rating',\n",
       " 'prime_genre',\n",
       " 'sup_devices.num',\n",
       " 'ipadSc_urls.num',\n",
       " 'lang.num',\n",
       " 'vpp_lic']"
      ]
     },
     "execution_count": 258,
     "metadata": {},
     "output_type": "execute_result"
    }
   ],
   "source": [
    "appstore_header"
   ]
  },
  {
   "cell_type": "code",
   "execution_count": 259,
   "metadata": {},
   "outputs": [
    {
     "name": "stdout",
     "output_type": "stream",
     "text": [
      "Games : 58.16 %\n",
      "Entertainment : 7.88 %\n",
      "Photo & Video : 4.97 %\n",
      "Education : 3.66 %\n",
      "Social Networking : 3.29 %\n",
      "Shopping : 2.61 %\n",
      "Utilities : 2.51 %\n",
      "Sports : 2.14 %\n",
      "Music : 2.05 %\n",
      "Health & Fitness : 2.02 %\n",
      "Productivity : 1.74 %\n",
      "Lifestyle : 1.58 %\n",
      "News : 1.33 %\n",
      "Travel : 1.24 %\n",
      "Finance : 1.12 %\n",
      "Weather : 0.87 %\n",
      "Food & Drink : 0.81 %\n",
      "Reference : 0.56 %\n",
      "Business : 0.53 %\n",
      "Book : 0.43 %\n",
      "Navigation : 0.19 %\n",
      "Medical : 0.19 %\n",
      "Catalogs : 0.12 %\n"
     ]
    }
   ],
   "source": [
    "display_table(final_apple, -5) # Showing the percentages from the prime genre column in the applestore apps."
   ]
  },
  {
   "cell_type": "markdown",
   "metadata": {},
   "source": [
    "### Analyzing the AppleStore \"prime genre\""
   ]
  },
  {
   "cell_type": "markdown",
   "metadata": {},
   "source": [
    ">- The most common genre here is Games with 58% of the Free english apps. The runner up is Entertainment apps with 7.88%. \n",
    ">- The majority of the apps in the applestore (english and free) are not for practical usage, instead there are more oriented to entertainment and leisure time.\n",
    ">- Only 3.66% of the apps are designed for education, followed by social networking apps which amount for 3.29% of the apps in our data set.\n",
    "\n",
    ">**The general impression is that App Store (at least the part containing free English apps) is dominated by apps that are designed for fun (games, entertainment, photo and video, social networking, sports, music, etc.), while apps with practical purposes (education, shopping, utilities, productivity, lifestyle, etc.) are more rare. However, the fact that fun apps are the most numerous doesn't also imply that they also have the greatest number of users — the demand might not be the same as the offer.**"
   ]
  },
  {
   "cell_type": "code",
   "execution_count": 255,
   "metadata": {},
   "outputs": [
    {
     "data": {
      "text/plain": [
       "['App',\n",
       " 'Category',\n",
       " 'Rating',\n",
       " 'Reviews',\n",
       " 'Size',\n",
       " 'Installs',\n",
       " 'Type',\n",
       " 'Price',\n",
       " 'Content Rating',\n",
       " 'Genres',\n",
       " 'Last Updated',\n",
       " 'Current Ver',\n",
       " 'Android Ver']"
      ]
     },
     "execution_count": 255,
     "metadata": {},
     "output_type": "execute_result"
    }
   ],
   "source": [
    "google_header #Always cheking the headers to get the indexes right."
   ]
  },
  {
   "cell_type": "code",
   "execution_count": 256,
   "metadata": {},
   "outputs": [
    {
     "name": "stdout",
     "output_type": "stream",
     "text": [
      "FAMILY : 18.9 %\n",
      "GAME : 9.73 %\n",
      "TOOLS : 8.46 %\n",
      "BUSINESS : 4.59 %\n",
      "LIFESTYLE : 3.9 %\n",
      "PRODUCTIVITY : 3.89 %\n",
      "FINANCE : 3.7 %\n",
      "MEDICAL : 3.53 %\n",
      "SPORTS : 3.4 %\n",
      "PERSONALIZATION : 3.32 %\n",
      "COMMUNICATION : 3.24 %\n",
      "HEALTH_AND_FITNESS : 3.08 %\n",
      "PHOTOGRAPHY : 2.94 %\n",
      "NEWS_AND_MAGAZINES : 2.8 %\n",
      "SOCIAL : 2.66 %\n",
      "TRAVEL_AND_LOCAL : 2.34 %\n",
      "SHOPPING : 2.25 %\n",
      "BOOKS_AND_REFERENCE : 2.14 %\n",
      "DATING : 1.86 %\n",
      "VIDEO_PLAYERS : 1.79 %\n",
      "MAPS_AND_NAVIGATION : 1.4 %\n",
      "FOOD_AND_DRINK : 1.24 %\n",
      "EDUCATION : 1.16 %\n",
      "ENTERTAINMENT : 0.96 %\n",
      "LIBRARIES_AND_DEMO : 0.94 %\n",
      "AUTO_AND_VEHICLES : 0.93 %\n",
      "HOUSE_AND_HOME : 0.82 %\n",
      "WEATHER : 0.8 %\n",
      "EVENTS : 0.71 %\n",
      "PARENTING : 0.65 %\n",
      "ART_AND_DESIGN : 0.64 %\n",
      "COMICS : 0.62 %\n",
      "BEAUTY : 0.6 %\n"
     ]
    }
   ],
   "source": [
    "display_table(final_google, 1) # Frequencies in percentage from the category column of the google apps."
   ]
  },
  {
   "cell_type": "markdown",
   "metadata": {},
   "source": [
    "### Analyzing the GooglePlay \"Category\" column"
   ]
  },
  {
   "cell_type": "markdown",
   "metadata": {},
   "source": [
    "> The landscape seems significantly different on Google Play: there are not that many apps designed for fun, and it seems that a good number of apps are designed for **practical purposes** (family, tools, business, lifestyle, productivity, etc.). However, if we investigate this further, we can see that the **family category** (which accounts for almost 19% of the apps) means mostly **games** for kids.\n",
    "\n",
    "![\"GooglePlayStore pic\"](https://camo.githubusercontent.com/9bf24b9efc3d88a3d55f5c09e314987941f0bab5/68747470733a2f2f73332e616d617a6f6e6177732e636f6d2f64712d636f6e74656e742f3335302f7079316d385f66616d696c792e706e67)"
   ]
  },
  {
   "cell_type": "markdown",
   "metadata": {},
   "source": [
    ">#### Even so, practical apps seem to have a better representation on Google Play compared to App Store. This picture is also confirmed by the frequency table we see for the Genres column:"
   ]
  },
  {
   "cell_type": "code",
   "execution_count": 257,
   "metadata": {},
   "outputs": [
    {
     "name": "stdout",
     "output_type": "stream",
     "text": [
      "Tools : 8.45 %\n",
      "Entertainment : 6.07 %\n",
      "Education : 5.35 %\n",
      "Business : 4.59 %\n",
      "Productivity : 3.89 %\n",
      "Lifestyle : 3.89 %\n",
      "Finance : 3.7 %\n",
      "Medical : 3.53 %\n",
      "Sports : 3.46 %\n",
      "Personalization : 3.32 %\n",
      "Communication : 3.24 %\n",
      "Action : 3.1 %\n",
      "Health & Fitness : 3.08 %\n",
      "Photography : 2.94 %\n",
      "News & Magazines : 2.8 %\n",
      "Social : 2.66 %\n",
      "Travel & Local : 2.32 %\n",
      "Shopping : 2.25 %\n",
      "Books & Reference : 2.14 %\n",
      "Simulation : 2.04 %\n",
      "Dating : 1.86 %\n",
      "Arcade : 1.85 %\n",
      "Video Players & Editors : 1.77 %\n",
      "Casual : 1.76 %\n",
      "Maps & Navigation : 1.4 %\n",
      "Food & Drink : 1.24 %\n",
      "Puzzle : 1.13 %\n",
      "Racing : 0.99 %\n",
      "Role Playing : 0.94 %\n",
      "Libraries & Demo : 0.94 %\n",
      "Auto & Vehicles : 0.93 %\n",
      "Strategy : 0.9 %\n",
      "House & Home : 0.82 %\n",
      "Weather : 0.8 %\n",
      "Events : 0.71 %\n",
      "Adventure : 0.68 %\n",
      "Comics : 0.61 %\n",
      "Beauty : 0.6 %\n",
      "Art & Design : 0.6 %\n",
      "Parenting : 0.5 %\n",
      "Card : 0.45 %\n",
      "Casino : 0.43 %\n",
      "Trivia : 0.42 %\n",
      "Educational;Education : 0.39 %\n",
      "Board : 0.38 %\n",
      "Educational : 0.37 %\n",
      "Education;Education : 0.34 %\n",
      "Word : 0.26 %\n",
      "Casual;Pretend Play : 0.24 %\n",
      "Music : 0.2 %\n",
      "Racing;Action & Adventure : 0.17 %\n",
      "Puzzle;Brain Games : 0.17 %\n",
      "Entertainment;Music & Video : 0.17 %\n",
      "Casual;Brain Games : 0.14 %\n",
      "Casual;Action & Adventure : 0.14 %\n",
      "Arcade;Action & Adventure : 0.12 %\n",
      "Action;Action & Adventure : 0.1 %\n",
      "Educational;Pretend Play : 0.09 %\n",
      "Simulation;Action & Adventure : 0.08 %\n",
      "Parenting;Education : 0.08 %\n",
      "Entertainment;Brain Games : 0.08 %\n",
      "Board;Brain Games : 0.08 %\n",
      "Parenting;Music & Video : 0.07 %\n",
      "Educational;Brain Games : 0.07 %\n",
      "Casual;Creativity : 0.07 %\n",
      "Art & Design;Creativity : 0.07 %\n",
      "Education;Pretend Play : 0.06 %\n",
      "Role Playing;Pretend Play : 0.05 %\n",
      "Education;Creativity : 0.05 %\n",
      "Role Playing;Action & Adventure : 0.03 %\n",
      "Puzzle;Action & Adventure : 0.03 %\n",
      "Entertainment;Creativity : 0.03 %\n",
      "Entertainment;Action & Adventure : 0.03 %\n",
      "Educational;Creativity : 0.03 %\n",
      "Educational;Action & Adventure : 0.03 %\n",
      "Education;Music & Video : 0.03 %\n",
      "Education;Brain Games : 0.03 %\n",
      "Education;Action & Adventure : 0.03 %\n",
      "Adventure;Action & Adventure : 0.03 %\n",
      "Video Players & Editors;Music & Video : 0.02 %\n",
      "Sports;Action & Adventure : 0.02 %\n",
      "Simulation;Pretend Play : 0.02 %\n",
      "Puzzle;Creativity : 0.02 %\n",
      "Music;Music & Video : 0.02 %\n",
      "Entertainment;Pretend Play : 0.02 %\n",
      "Casual;Education : 0.02 %\n",
      "Board;Action & Adventure : 0.02 %\n",
      "Video Players & Editors;Creativity : 0.01 %\n",
      "Trivia;Education : 0.01 %\n",
      "Travel & Local;Action & Adventure : 0.01 %\n",
      "Tools;Education : 0.01 %\n",
      "Strategy;Education : 0.01 %\n",
      "Strategy;Creativity : 0.01 %\n",
      "Strategy;Action & Adventure : 0.01 %\n",
      "Simulation;Education : 0.01 %\n",
      "Role Playing;Brain Games : 0.01 %\n",
      "Racing;Pretend Play : 0.01 %\n",
      "Puzzle;Education : 0.01 %\n",
      "Parenting;Brain Games : 0.01 %\n",
      "Music & Audio;Music & Video : 0.01 %\n",
      "Lifestyle;Pretend Play : 0.01 %\n",
      "Lifestyle;Education : 0.01 %\n",
      "Health & Fitness;Education : 0.01 %\n",
      "Health & Fitness;Action & Adventure : 0.01 %\n",
      "Entertainment;Education : 0.01 %\n",
      "Communication;Creativity : 0.01 %\n",
      "Comics;Creativity : 0.01 %\n",
      "Casual;Music & Video : 0.01 %\n",
      "Card;Action & Adventure : 0.01 %\n",
      "Books & Reference;Education : 0.01 %\n",
      "Art & Design;Pretend Play : 0.01 %\n",
      "Art & Design;Action & Adventure : 0.01 %\n",
      "Arcade;Pretend Play : 0.01 %\n",
      "Adventure;Education : 0.01 %\n"
     ]
    }
   ],
   "source": [
    "display_table(final_google, -4) # Percentages from the genres column in the google apps."
   ]
  },
  {
   "cell_type": "markdown",
   "metadata": {},
   "source": [
    ">The difference between the **Genres** and the **Category** columns is not crystal clear, but one thing we can notice is that the **Genres** column is much more granular (it has more categories). We're only looking for the bigger picture at the moment, so we'll only work with the **Category** column moving forward.\n",
    "\n",
    "---\n",
    "\n",
    "#### Milestone... \n",
    "\n",
    ">>Up to this point, we found that the **AppStore** is dominated by apps designed for fun, while **GooglePlay** shows a more balanced landscape of both practical and for-fun apps. "
   ]
  },
  {
   "cell_type": "markdown",
   "metadata": {},
   "source": [
    ">Now we are going to study frequencies and relationships between **users** data and **apps** data....let's get started....\n",
    ">> First we are going to look at the number of reviews each genre has, so we could estimate what apps or genres are most download."
   ]
  },
  {
   "cell_type": "code",
   "execution_count": 260,
   "metadata": {},
   "outputs": [],
   "source": [
    "#First we generate a unique dictionary with the names of the genres needed. We start we the cleaned Apple dataset.\n",
    "\n",
    "unique_genre_apple = freq_table(final_apple, -5)"
   ]
  },
  {
   "cell_type": "code",
   "execution_count": 261,
   "metadata": {},
   "outputs": [
    {
     "data": {
      "text/plain": [
       "{'Social Networking': 3.2898820608317814,\n",
       " 'Photo & Video': 4.9658597144630665,\n",
       " 'Games': 58.16263190564867,\n",
       " 'Music': 2.0484171322160147,\n",
       " 'Reference': 0.5586592178770949,\n",
       " 'Health & Fitness': 2.0173805090006205,\n",
       " 'Weather': 0.8690254500310366,\n",
       " 'Utilities': 2.5139664804469275,\n",
       " 'Travel': 1.2414649286157666,\n",
       " 'Shopping': 2.60707635009311,\n",
       " 'News': 1.3345747982619491,\n",
       " 'Navigation': 0.186219739292365,\n",
       " 'Lifestyle': 1.5828677839851024,\n",
       " 'Entertainment': 7.883302296710118,\n",
       " 'Food & Drink': 0.8069522036002483,\n",
       " 'Sports': 2.1415270018621975,\n",
       " 'Book': 0.4345127250155183,\n",
       " 'Finance': 1.1173184357541899,\n",
       " 'Education': 3.662321539416512,\n",
       " 'Productivity': 1.7380509000620732,\n",
       " 'Business': 0.5276225946617008,\n",
       " 'Catalogs': 0.12414649286157665,\n",
       " 'Medical': 0.186219739292365}"
      ]
     },
     "execution_count": 261,
     "metadata": {},
     "output_type": "execute_result"
    }
   ],
   "source": [
    "unique_genre_apple"
   ]
  },
  {
   "cell_type": "code",
   "execution_count": 206,
   "metadata": {},
   "outputs": [],
   "source": [
    "avgs = [] #List of each genre with their corresponding average of ratings per app."
   ]
  },
  {
   "cell_type": "code",
   "execution_count": 212,
   "metadata": {},
   "outputs": [
    {
     "name": "stdout",
     "output_type": "stream",
     "text": [
      "Social Networking : 71548.35\n",
      "Photo & Video : 28441.54\n",
      "Games : 22788.67\n",
      "Music : 57326.53\n",
      "Reference : 74942.11\n",
      "Health & Fitness : 23298.02\n",
      "Weather : 52279.89\n",
      "Utilities : 18684.46\n",
      "Travel : 28243.8\n",
      "Shopping : 26919.69\n",
      "News : 21248.02\n",
      "Navigation : 86090.33\n",
      "Lifestyle : 16485.76\n",
      "Entertainment : 14029.83\n",
      "Food & Drink : 33333.92\n",
      "Sports : 23008.9\n",
      "Book : 39758.5\n",
      "Finance : 31467.94\n",
      "Education : 7003.98\n",
      "Productivity : 21028.41\n",
      "Business : 7491.12\n",
      "Catalogs : 4004.0\n",
      "Medical : 612.0\n"
     ]
    }
   ],
   "source": [
    "for genre in unique_genre_apple:\n",
    "    \n",
    "    total = 0\n",
    "    \n",
    "    len_genre = 0\n",
    "    \n",
    "    for row in final_apple:\n",
    "        genre_app = row[-5]\n",
    "        \n",
    "        if genre_app == genre:\n",
    "            user_rat = float(row[5])\n",
    "            total += user_rat\n",
    "            len_genre += 1\n",
    "    \n",
    "    avgs = round(total / len_genre, 2)\n",
    "    \n",
    "    print(genre, \":\", avgs) \n",
    "    \n",
    "        "
   ]
  },
  {
   "cell_type": "markdown",
   "metadata": {},
   "source": [
    "- A quick look to the list we see that **Navigation** apps show up with a lot of reviews (aka downloads)"
   ]
  },
  {
   "cell_type": "code",
   "execution_count": 269,
   "metadata": {},
   "outputs": [
    {
     "name": "stdout",
     "output_type": "stream",
     "text": [
      "Waze - GPS Navigation, Maps & Real-time Traffic : 345046\n",
      "Google Maps - Navigation & Transit : 154911\n",
      "Geocaching® : 12811\n",
      "CoPilot GPS – Car Navigation & Offline Maps : 3582\n",
      "ImmobilienScout24: Real Estate Search in Germany : 187\n",
      "Railway Route Search : 5\n"
     ]
    }
   ],
   "source": [
    "for app in final_apple:\n",
    "    \n",
    "    if app[-5] == \"Navigation\":\n",
    "        \n",
    "        print(app[1], \":\", app[5]) # print name and number of ratings"
   ]
  },
  {
   "cell_type": "markdown",
   "metadata": {},
   "source": [
    ">Navigation apps are dominating the ratings and downloads and introducing some bias."
   ]
  },
  {
   "cell_type": "markdown",
   "metadata": {},
   "source": [
    ">>The same pattern applies to social networking apps, where the average number is heavily influenced by a few giants like Facebook, Pinterest, Skype, etc. Same applies to music apps, where a few big players like Pandora, Spotify, and Shazam heavily influence the average number.\n",
    "\n",
    ">>Our aim is to find popular genres, but navigation, social networking or music apps might seem more popular than they really are. The average number of ratings seem to be skewed by very few apps which have hundreds of thousands of user ratings, while the other apps may struggle to get past the 10,000 threshold. We could get a better picture by removing these extremely popular apps for each genre and then rework the averages, but we'll leave this level of detail for later."
   ]
  },
  {
   "cell_type": "code",
   "execution_count": 210,
   "metadata": {},
   "outputs": [
    {
     "data": {
      "text/plain": [
       "[86090.33,\n",
       " 74942.11,\n",
       " 71548.35,\n",
       " 57326.53,\n",
       " 52279.89,\n",
       " 39758.5,\n",
       " 33333.92,\n",
       " 31467.94,\n",
       " 28441.54,\n",
       " 28243.8,\n",
       " 26919.69,\n",
       " 23298.02,\n",
       " 23008.9,\n",
       " 22788.67,\n",
       " 21248.02,\n",
       " 21028.41,\n",
       " 18684.46,\n",
       " 16485.76,\n",
       " 14029.83,\n",
       " 7491.12,\n",
       " 7003.98,\n",
       " 4004.0,\n",
       " 612.0]"
      ]
     },
     "execution_count": 210,
     "metadata": {},
     "output_type": "execute_result"
    }
   ],
   "source": [
    "# Sorting the list of avg reviews, so we can picture the variance of the data,\n",
    "# the top giants are not representing the average as a whole.\n",
    "\n",
    "sorted(avgs, reverse = True) "
   ]
  },
  {
   "cell_type": "code",
   "execution_count": 271,
   "metadata": {},
   "outputs": [
    {
     "name": "stdout",
     "output_type": "stream",
     "text": [
      "Bible : 985920\n",
      "Dictionary.com Dictionary & Thesaurus : 200047\n",
      "Dictionary.com Dictionary & Thesaurus for iPad : 54175\n",
      "Google Translate : 26786\n",
      "Muslim Pro: Ramadan 2017 Prayer Times, Azan, Quran : 18418\n",
      "New Furniture Mods - Pocket Wiki & Game Tools for Minecraft PC Edition : 17588\n",
      "Merriam-Webster Dictionary : 16849\n",
      "Night Sky : 12122\n",
      "City Maps for Minecraft PE - The Best Maps for Minecraft Pocket Edition (MCPE) : 8535\n",
      "LUCKY BLOCK MOD ™ for Minecraft PC Edition - The Best Pocket Wiki & Mods Installer Tools : 4693\n",
      "GUNS MODS for Minecraft PC Edition - Mods Tools : 1497\n",
      "Guides for Pokémon GO - Pokemon GO News and Cheats : 826\n",
      "WWDC : 762\n",
      "Horror Maps for Minecraft PE - Download The Scariest Maps for Minecraft Pocket Edition (MCPE) Free : 718\n",
      "VPN Express : 14\n",
      "Real Bike Traffic Rider Virtual Reality Glasses : 8\n",
      "教えて!goo : 0\n",
      "Jishokun-Japanese English Dictionary & Translator : 0\n"
     ]
    }
   ],
   "source": [
    "for app in final_apple:\n",
    "    \n",
    "    if app[-5] == \"Reference\":\n",
    "     \n",
    "        print(app[1], \":\", app[5])"
   ]
  },
  {
   "cell_type": "markdown",
   "metadata": {},
   "source": [
    "---\n",
    "---\n",
    ">**Reference** apps have 74942.11 user ratings on average, but it's actually the Bible and Dictionary.com which skew up the average rating\n",
    "---\n",
    "---"
   ]
  },
  {
   "cell_type": "markdown",
   "metadata": {},
   "source": [
    "***\n",
    "***\n",
    ">However, this niche seems to show some potential. One thing we could do is take another popular book and turn it into an app where we could add different features besides the raw version of the book. This might include daily quotes from the book, an audio version of the book, quizzes about the book, etc. On top of that, we could also embed a dictionary within the app, so users don't need to exit our app to look up words in an external app.\n",
    ">\n",
    ">This idea seems to fit well with the fact that the App Store is dominated by for-fun apps. This suggests the market might be a bit saturated with for-fun apps, which means a practical app might have more of a chance to stand out among the huge number of apps on the App Store.\n",
    ">\n",
    ">Other genres that seem popular include weather, book, food and drink, or finance. The book genre seem to overlap a bit with the app idea we described above, but the other genres don't seem too interesting to us:\n",
    "\n",
    ">>   - **Weather apps** — people generally don't spend too much time in-app, and the chances of making profit from in-app adds are low. Also, getting reliable live weather data may require us to connect our apps to non-free APIs.\n",
    "\n",
    ">>   - **Food and drink** — examples here include Starbucks, Dunkin' Donuts, McDonald's, etc. So making a popular food and drink app requires actual cooking and a delivery service, which is outside the scope of our company.\n",
    "\n",
    ">>   - **Finance apps** — these apps involve banking, paying bills, money transfer, etc. Building a finance app requires domain knowledge, and we don't want to hire a finance expert just to build an app.\n"
   ]
  },
  {
   "cell_type": "markdown",
   "metadata": {},
   "source": [
    "### Most Popular Apps by Genre on Google Play"
   ]
  },
  {
   "cell_type": "code",
   "execution_count": 272,
   "metadata": {},
   "outputs": [
    {
     "name": "stdout",
     "output_type": "stream",
     "text": [
      "1,000,000+ : 15.73 %\n",
      "100,000+ : 11.55 %\n",
      "10,000,000+ : 10.55 %\n",
      "10,000+ : 10.2 %\n",
      "1,000+ : 8.39 %\n",
      "100+ : 6.92 %\n",
      "5,000,000+ : 6.83 %\n",
      "500,000+ : 5.56 %\n",
      "50,000+ : 4.77 %\n",
      "5,000+ : 4.51 %\n",
      "10+ : 3.54 %\n",
      "500+ : 3.25 %\n",
      "50,000,000+ : 2.3 %\n",
      "100,000,000+ : 2.13 %\n",
      "50+ : 1.92 %\n",
      "5+ : 0.79 %\n",
      "1+ : 0.51 %\n",
      "500,000,000+ : 0.27 %\n",
      "1,000,000,000+ : 0.23 %\n",
      "0+ : 0.05 %\n"
     ]
    }
   ],
   "source": [
    "display_table(final_google, 5) # Frequencies of the Installs colunns.!!!"
   ]
  },
  {
   "cell_type": "markdown",
   "metadata": {},
   "source": [
    ">- One problem with this data is that is not precise. For instance, we don't know whether an app with 100,000+ installs has 100,000 installs, 200,000, or 350,000. However, we don't need very precise data for our purposes — we only want to get an idea which app genres attract the most users, and we don't need perfect precision with respect to the number of users.\n",
    ">>- We're going to leave the numbers as they are, which means that we'll consider that an app with 100,000+ installs has 100,000 installs, and an app with 1,000,000+ installs has 1,000,000 installs, and so on.\n",
    ">>>- To perform computations, however, we'll need to convert each install number to float — this means that we need to remove the commas and the plus characters, otherwise the conversion will fail and raise an error. We'll do this directly in the loop below, where we also compute the average number of installs for each genre (category).\n"
   ]
  },
  {
   "cell_type": "code",
   "execution_count": 217,
   "metadata": {},
   "outputs": [
    {
     "data": {
      "text/plain": [
       "['App',\n",
       " 'Category',\n",
       " 'Rating',\n",
       " 'Reviews',\n",
       " 'Size',\n",
       " 'Installs',\n",
       " 'Type',\n",
       " 'Price',\n",
       " 'Content Rating',\n",
       " 'Genres',\n",
       " 'Last Updated',\n",
       " 'Current Ver',\n",
       " 'Android Ver']"
      ]
     },
     "execution_count": 217,
     "metadata": {},
     "output_type": "execute_result"
    }
   ],
   "source": [
    "google_header"
   ]
  },
  {
   "cell_type": "code",
   "execution_count": 274,
   "metadata": {},
   "outputs": [],
   "source": [
    "unique_google = freq_table(final_google, 1)"
   ]
  },
  {
   "cell_type": "code",
   "execution_count": 275,
   "metadata": {},
   "outputs": [
    {
     "data": {
      "text/plain": [
       "{'ART_AND_DESIGN': 0.6431230960171499,\n",
       " 'AUTO_AND_VEHICLES': 0.9251946293580051,\n",
       " 'BEAUTY': 0.5979916506826132,\n",
       " 'BOOKS_AND_REFERENCE': 2.1437436533904997,\n",
       " 'BUSINESS': 4.592124562789123,\n",
       " 'COMICS': 0.6205573733498815,\n",
       " 'COMMUNICATION': 3.2381812027530184,\n",
       " 'DATING': 1.8616721200496444,\n",
       " 'EDUCATION': 1.1621347173643235,\n",
       " 'ENTERTAINMENT': 0.9590432133589079,\n",
       " 'EVENTS': 0.7108202640189552,\n",
       " 'FINANCE': 3.7007785174320205,\n",
       " 'FOOD_AND_DRINK': 1.241114746699763,\n",
       " 'HEALTH_AND_FITNESS': 3.0802211440821394,\n",
       " 'HOUSE_AND_HOME': 0.8236488773552973,\n",
       " 'LIBRARIES_AND_DEMO': 0.9364774906916393,\n",
       " 'LIFESTYLE': 3.9038700214374367,\n",
       " 'GAME': 9.725826469592688,\n",
       " 'FAMILY': 18.898792733837304,\n",
       " 'MEDICAL': 3.5315355974275078,\n",
       " 'SOCIAL': 2.6627552747376737,\n",
       " 'SHOPPING': 2.245289405393208,\n",
       " 'PHOTOGRAPHY': 2.944826808078529,\n",
       " 'SPORTS': 3.396141261423897,\n",
       " 'TRAVEL_AND_LOCAL': 2.335552296062281,\n",
       " 'TOOLS': 8.462146000225657,\n",
       " 'PERSONALIZATION': 3.317161232088458,\n",
       " 'PRODUCTIVITY': 3.8925871601038025,\n",
       " 'PARENTING': 0.6544059573507841,\n",
       " 'WEATHER': 0.8010831546880289,\n",
       " 'VIDEO_PLAYERS': 1.7939749520478394,\n",
       " 'NEWS_AND_MAGAZINES': 2.798149610741284,\n",
       " 'MAPS_AND_NAVIGATION': 1.399074805370642}"
      ]
     },
     "execution_count": 275,
     "metadata": {},
     "output_type": "execute_result"
    }
   ],
   "source": [
    "unique_google"
   ]
  },
  {
   "cell_type": "code",
   "execution_count": 287,
   "metadata": {},
   "outputs": [],
   "source": [
    "avg_google = []"
   ]
  },
  {
   "cell_type": "code",
   "execution_count": 288,
   "metadata": {},
   "outputs": [
    {
     "name": "stdout",
     "output_type": "stream",
     "text": [
      "ART_AND_DESIGN : 1986335.09\n",
      "AUTO_AND_VEHICLES : 647317.82\n",
      "BEAUTY : 513151.89\n",
      "BOOKS_AND_REFERENCE : 8767811.89\n",
      "BUSINESS : 1712290.15\n",
      "COMICS : 817657.27\n",
      "COMMUNICATION : 38456119.17\n",
      "DATING : 854028.83\n",
      "EDUCATION : 1833495.15\n",
      "ENTERTAINMENT : 11640705.88\n",
      "EVENTS : 253542.22\n",
      "FINANCE : 1387692.48\n",
      "FOOD_AND_DRINK : 1924897.74\n",
      "HEALTH_AND_FITNESS : 4188821.99\n",
      "HOUSE_AND_HOME : 1331540.56\n",
      "LIBRARIES_AND_DEMO : 638503.73\n",
      "LIFESTYLE : 1437816.27\n",
      "GAME : 15588015.6\n",
      "FAMILY : 3697848.17\n",
      "MEDICAL : 120550.62\n",
      "SOCIAL : 23253652.13\n",
      "SHOPPING : 7036877.31\n",
      "PHOTOGRAPHY : 17840110.4\n",
      "SPORTS : 3638640.14\n",
      "TRAVEL_AND_LOCAL : 13984077.71\n",
      "TOOLS : 10801391.3\n",
      "PERSONALIZATION : 5201482.61\n",
      "PRODUCTIVITY : 16787331.34\n",
      "PARENTING : 542603.62\n",
      "WEATHER : 5074486.2\n",
      "VIDEO_PLAYERS : 24727872.45\n",
      "NEWS_AND_MAGAZINES : 9549178.47\n",
      "MAPS_AND_NAVIGATION : 4056941.77\n"
     ]
    }
   ],
   "source": [
    "# Looping, replacing the string and calculating the average.\n",
    "\n",
    "for category in unique_google:\n",
    "    \n",
    "    total = 0\n",
    "    \n",
    "    len_cat = 0\n",
    "    \n",
    "    for row in final_google:\n",
    "        \n",
    "        if row[1] == category:\n",
    "            string = row[5].replace(\"+\", \"\")\n",
    "            string = string.replace(\",\", \"\")\n",
    "            total += float(string)\n",
    "            len_cat += 1\n",
    "    \n",
    "    avg = total / len_cat\n",
    "    avg_google.append(round(avg, 2))\n",
    "    \n",
    "    print(category, \":\", round(avg, 2))"
   ]
  },
  {
   "cell_type": "code",
   "execution_count": 290,
   "metadata": {},
   "outputs": [
    {
     "data": {
      "text/plain": [
       "[38456119.17,\n",
       " 24727872.45,\n",
       " 23253652.13,\n",
       " 17840110.4,\n",
       " 16787331.34,\n",
       " 15588015.6,\n",
       " 13984077.71,\n",
       " 11640705.88,\n",
       " 10801391.3,\n",
       " 9549178.47,\n",
       " 8767811.89,\n",
       " 7036877.31,\n",
       " 5201482.61,\n",
       " 5074486.2,\n",
       " 4188821.99,\n",
       " 4056941.77,\n",
       " 3697848.17,\n",
       " 3638640.14,\n",
       " 1986335.09,\n",
       " 1924897.74,\n",
       " 1833495.15,\n",
       " 1712290.15,\n",
       " 1437816.27,\n",
       " 1387692.48,\n",
       " 1331540.56,\n",
       " 854028.83,\n",
       " 817657.27,\n",
       " 647317.82,\n",
       " 638503.73,\n",
       " 542603.62,\n",
       " 513151.89,\n",
       " 253542.22,\n",
       " 120550.62]"
      ]
     },
     "execution_count": 290,
     "metadata": {},
     "output_type": "execute_result"
    }
   ],
   "source": [
    "sorted(avg_google, reverse = True)"
   ]
  },
  {
   "cell_type": "markdown",
   "metadata": {},
   "source": [
    "- On average, communication apps have the most installs: 38,456,119. This number is heavily skewed up by a few apps that have over one billion installs (WhatsApp, Facebook Messenger, Skype, Google Chrome, Gmail, and Hangouts), and a few others with over 100 and 500 million installs:"
   ]
  },
  {
   "cell_type": "code",
   "execution_count": 229,
   "metadata": {},
   "outputs": [
    {
     "name": "stdout",
     "output_type": "stream",
     "text": [
      "WhatsApp Messenger : 1,000,000,000+\n",
      "imo beta free calls and text : 100,000,000+\n",
      "Android Messages : 100,000,000+\n",
      "Google Duo - High Quality Video Calls : 500,000,000+\n",
      "Messenger – Text and Video Chat for Free : 1,000,000,000+\n",
      "imo free video calls and chat : 500,000,000+\n",
      "Skype - free IM & video calls : 1,000,000,000+\n",
      "Who : 100,000,000+\n",
      "GO SMS Pro - Messenger, Free Themes, Emoji : 100,000,000+\n",
      "LINE: Free Calls & Messages : 500,000,000+\n",
      "Google Chrome: Fast & Secure : 1,000,000,000+\n",
      "Firefox Browser fast & private : 100,000,000+\n",
      "UC Browser - Fast Download Private & Secure : 500,000,000+\n",
      "Gmail : 1,000,000,000+\n",
      "Hangouts : 1,000,000,000+\n",
      "Messenger Lite: Free Calls & Messages : 100,000,000+\n",
      "Kik : 100,000,000+\n",
      "KakaoTalk: Free Calls & Text : 100,000,000+\n",
      "Opera Mini - fast web browser : 100,000,000+\n",
      "Opera Browser: Fast and Secure : 100,000,000+\n",
      "Telegram : 100,000,000+\n",
      "Truecaller: Caller ID, SMS spam blocking & Dialer : 100,000,000+\n",
      "UC Browser Mini -Tiny Fast Private & Secure : 100,000,000+\n",
      "Viber Messenger : 500,000,000+\n",
      "WeChat : 100,000,000+\n",
      "Yahoo Mail – Stay Organized : 100,000,000+\n",
      "BBM - Free Calls & Messages : 100,000,000+\n"
     ]
    }
   ],
   "source": [
    "for app in final_google:\n",
    "    \n",
    "    if app[1] == 'COMMUNICATION' and (app[5] == '1,000,000,000+'\n",
    "                                      or app[5] == '500,000,000+'\n",
    "                                      or app[5] == '100,000,000+'):\n",
    "        \n",
    "        print(app[0], ':', app[5])\n"
   ]
  },
  {
   "cell_type": "markdown",
   "metadata": {},
   "source": [
    "---\n",
    ">If we removed all the communication apps that have over 100 million installs, the average would be reduced roughly ten times:\n",
    "---"
   ]
  },
  {
   "cell_type": "code",
   "execution_count": 231,
   "metadata": {},
   "outputs": [
    {
     "data": {
      "text/plain": [
       "3603485.39"
      ]
     },
     "execution_count": 231,
     "metadata": {},
     "output_type": "execute_result"
    }
   ],
   "source": [
    "under_100_m = []\n",
    "\n",
    "for app in final_google:\n",
    "    n_installs = app[5]\n",
    "    n_installs = n_installs.replace(',', '')\n",
    "    n_installs = n_installs.replace('+', '')\n",
    "    if (app[1] == 'COMMUNICATION') and (float(n_installs) < 100000000):\n",
    "        under_100_m.append(float(n_installs))\n",
    "        \n",
    "round(sum(under_100_m) / len(under_100_m), 2)\n"
   ]
  },
  {
   "cell_type": "markdown",
   "metadata": {},
   "source": [
    ">We see the same pattern for the video players category, which is the runner-up with 24,727,872 installs. The market is dominated by apps like Youtube, Google Play Movies & TV, or MX Player. The pattern is repeated for social apps (where we have giants like Facebook, Instagram, Google+, etc.), photography apps (Google Photos and other popular photo editors), or productivity apps (Microsoft Word, Dropbox, Google Calendar, Evernote, etc.).\n",
    "\n",
    ">>Again, the main concern is that these app genres might seem more popular than they really are. Moreover, these niches seem to be dominated by a few giants who are hard to compete against.\n",
    ">>The game genre seems pretty popular, but previously we found out this part of the market seems a bit saturated, so we'd like to come up with a different app recommendation if possible.\n",
    "\n",
    ">>>The books and reference genre looks fairly popular as well, with an average number of installs of 8,767,811. It's interesting to explore this in more depth, since we found this genre has some potential to work well on the App Store, and our aim is to recommend an app genre that shows potential for being profitable on both the App Store and Google Play."
   ]
  },
  {
   "cell_type": "markdown",
   "metadata": {},
   "source": [
    "---\n",
    "## Stage # 4\n",
    "---\n",
    "### Let's take a look at this genre more deeply:\n",
    "---"
   ]
  },
  {
   "cell_type": "code",
   "execution_count": 291,
   "metadata": {},
   "outputs": [
    {
     "name": "stdout",
     "output_type": "stream",
     "text": [
      "E-Book Read - Read Book for free : 50,000+\n",
      "Download free book with green book : 100,000+\n",
      "Wikipedia : 10,000,000+\n",
      "Cool Reader : 10,000,000+\n",
      "Free Panda Radio Music : 100,000+\n",
      "Book store : 1,000,000+\n",
      "FBReader: Favorite Book Reader : 10,000,000+\n",
      "English Grammar Complete Handbook : 500,000+\n",
      "Free Books - Spirit Fanfiction and Stories : 1,000,000+\n",
      "Google Play Books : 1,000,000,000+\n",
      "AlReader -any text book reader : 5,000,000+\n",
      "Offline English Dictionary : 100,000+\n",
      "Offline: English to Tagalog Dictionary : 500,000+\n",
      "FamilySearch Tree : 1,000,000+\n",
      "Cloud of Books : 1,000,000+\n",
      "Recipes of Prophetic Medicine for free : 500,000+\n",
      "ReadEra – free ebook reader : 1,000,000+\n",
      "Anonymous caller detection : 10,000+\n",
      "Ebook Reader : 5,000,000+\n",
      "Litnet - E-books : 100,000+\n",
      "Read books online : 5,000,000+\n",
      "English to Urdu Dictionary : 500,000+\n",
      "eBoox: book reader fb2 epub zip : 1,000,000+\n",
      "English Persian Dictionary : 500,000+\n",
      "Flybook : 500,000+\n",
      "All Maths Formulas : 1,000,000+\n",
      "Ancestry : 5,000,000+\n",
      "HTC Help : 10,000,000+\n",
      "English translation from Bengali : 100,000+\n",
      "Pdf Book Download - Read Pdf Book : 100,000+\n",
      "Free Book Reader : 100,000+\n",
      "eBoox new: Reader for fb2 epub zip books : 50,000+\n",
      "Only 30 days in English, the guideline is guaranteed : 500,000+\n",
      "Moon+ Reader : 10,000,000+\n",
      "SH-02J Owner's Manual (Android 8.0) : 50,000+\n",
      "English-Myanmar Dictionary : 1,000,000+\n",
      "Golden Dictionary (EN-AR) : 1,000,000+\n",
      "All Language Translator Free : 1,000,000+\n",
      "Azpen eReader : 500,000+\n",
      "URBANO V 02 instruction manual : 100,000+\n",
      "Bible : 100,000,000+\n",
      "C Programs and Reference : 50,000+\n",
      "C Offline Tutorial : 1,000+\n",
      "C Programs Handbook : 50,000+\n",
      "Amazon Kindle : 100,000,000+\n",
      "Aab e Hayat Full Novel : 100,000+\n",
      "Aldiko Book Reader : 10,000,000+\n",
      "Google I/O 2018 : 500,000+\n",
      "R Language Reference Guide : 10,000+\n",
      "Learn R Programming Full : 5,000+\n",
      "R Programing Offline Tutorial : 1,000+\n",
      "Guide for R Programming : 5+\n",
      "Learn R Programming : 10+\n",
      "R Quick Reference Big Data : 1,000+\n",
      "V Made : 100,000+\n",
      "Wattpad 📖 Free Books : 100,000,000+\n",
      "Dictionary - WordWeb : 5,000,000+\n",
      "Guide (for X-MEN) : 100,000+\n",
      "AC Air condition Troubleshoot,Repair,Maintenance : 5,000+\n",
      "AE Bulletins : 1,000+\n",
      "Ae Allah na Dai (Rasa) : 10,000+\n",
      "50000 Free eBooks & Free AudioBooks : 5,000,000+\n",
      "Ag PhD Field Guide : 10,000+\n",
      "Ag PhD Deficiencies : 10,000+\n",
      "Ag PhD Planting Population Calculator : 1,000+\n",
      "Ag PhD Soybean Diseases : 1,000+\n",
      "Fertilizer Removal By Crop : 50,000+\n",
      "A-J Media Vault : 50+\n",
      "Al-Quran (Free) : 10,000,000+\n",
      "Al Quran (Tafsir & by Word) : 500,000+\n",
      "Al Quran Indonesia : 10,000,000+\n",
      "Al'Quran Bahasa Indonesia : 10,000,000+\n",
      "Al Quran Al karim : 1,000,000+\n",
      "Al-Muhaffiz : 50,000+\n",
      "Al Quran : EAlim - Translations & MP3 Offline : 5,000,000+\n",
      "Al-Quran 30 Juz free copies : 500,000+\n",
      "Koran Read &MP3 30 Juz Offline : 1,000,000+\n",
      "Hafizi Quran 15 lines per page : 1,000,000+\n",
      "Quran for Android : 10,000,000+\n",
      "Surah Al-Waqiah : 100,000+\n",
      "Hisnul Al Muslim - Hisn Invocations & Adhkaar : 100,000+\n",
      "Satellite AR : 1,000,000+\n",
      "Audiobooks from Audible : 100,000,000+\n",
      "Kinot & Eichah for Tisha B'Av : 10,000+\n",
      "AW Tozer Devotionals - Daily : 5,000+\n",
      "Tozer Devotional -Series 1 : 1,000+\n",
      "The Pursuit of God : 1,000+\n",
      "AY Sing : 5,000+\n",
      "Ay Hasnain k Nana Milad Naat : 10,000+\n",
      "Ay Mohabbat Teri Khatir Novel : 10,000+\n",
      "Arizona Statutes, ARS (AZ Law) : 1,000+\n",
      "Oxford A-Z of English Usage : 1,000,000+\n",
      "BD Fishpedia : 1,000+\n",
      "BD All Sim Offer : 10,000+\n",
      "Youboox - Livres, BD et magazines : 500,000+\n",
      "B&H Kids AR : 10,000+\n",
      "B y H Niños ES : 5,000+\n",
      "Dictionary.com: Find Definitions for English Words : 10,000,000+\n",
      "English Dictionary - Offline : 10,000,000+\n",
      "Bible KJV : 5,000,000+\n",
      "Borneo Bible, BM Bible : 10,000+\n",
      "MOD Black for BM : 100+\n",
      "BM Box : 1,000+\n",
      "Anime Mod for BM : 100+\n",
      "NOOK: Read eBooks & Magazines : 10,000,000+\n",
      "NOOK Audiobooks : 500,000+\n",
      "NOOK App for NOOK Devices : 500,000+\n",
      "Browsery by Barnes & Noble : 5,000+\n",
      "bp e-store : 1,000+\n",
      "Brilliant Quotes: Life, Love, Family & Motivation : 1,000,000+\n",
      "BR Ambedkar Biography & Quotes : 10,000+\n",
      "BU Alsace : 100+\n",
      "Catholic La Bu Zo Kam : 500+\n",
      "Khrifa Hla Bu (Solfa) : 10+\n",
      "Kristian Hla Bu : 10,000+\n",
      "SA HLA BU : 1,000+\n",
      "Learn SAP BW : 500+\n",
      "Learn SAP BW on HANA : 500+\n",
      "CA Laws 2018 (California Laws and Codes) : 5,000+\n",
      "Bootable Methods(USB-CD-DVD) : 10,000+\n",
      "cloudLibrary : 100,000+\n",
      "SDA Collegiate Quarterly : 500+\n",
      "Sabbath School : 100,000+\n",
      "Cypress College Library : 100+\n",
      "Stats Royale for Clash Royale : 1,000,000+\n",
      "GATE 21 years CS Papers(2011-2018 Solved) : 50+\n",
      "Learn CT Scan Of Head : 5,000+\n",
      "Easy Cv maker 2018 : 10,000+\n",
      "How to Write CV : 100,000+\n",
      "CW Nuclear : 1,000+\n",
      "CY Spray nozzle : 10+\n",
      "BibleRead En Cy Zh Yue : 5+\n",
      "CZ-Help : 5+\n",
      "Modlitební knížka CZ : 500+\n",
      "Guide for DB Xenoverse : 10,000+\n",
      "Guide for DB Xenoverse 2 : 10,000+\n",
      "Guide for IMS DB : 10+\n",
      "DC HSEMA : 5,000+\n",
      "DC Public Library : 1,000+\n",
      "Painting Lulu DC Super Friends : 1,000+\n",
      "Dictionary : 10,000,000+\n",
      "Fix Error Google Playstore : 1,000+\n",
      "D. H. Lawrence Poems FREE : 1,000+\n",
      "Bilingual Dictionary Audio App : 5,000+\n",
      "DM Screen : 10,000+\n",
      "wikiHow: how to do anything : 1,000,000+\n",
      "Dr. Doug's Tips : 1,000+\n",
      "Bible du Semeur-BDS (French) : 50,000+\n",
      "La citadelle du musulman : 50,000+\n",
      "DV 2019 Entry Guide : 10,000+\n",
      "DV 2019 - EDV Photo & Form : 50,000+\n",
      "DV 2018 Winners Guide : 1,000+\n",
      "EB Annual Meetings : 1,000+\n",
      "EC - AP & Telangana : 5,000+\n",
      "TN Patta Citta & EC : 10,000+\n",
      "AP Stamps and Registration : 10,000+\n",
      "CompactiMa EC pH Calibration : 100+\n",
      "EGW Writings 2 : 100,000+\n",
      "EGW Writings : 1,000,000+\n",
      "Bible with EGW Comments : 100,000+\n",
      "My Little Pony AR Guide : 1,000,000+\n",
      "SDA Sabbath School Quarterly : 500,000+\n",
      "Duaa Ek Ibaadat : 5,000+\n",
      "Spanish English Translator : 10,000,000+\n",
      "Dictionary - Merriam-Webster : 10,000,000+\n",
      "JW Library : 10,000,000+\n",
      "Oxford Dictionary of English : Free : 10,000,000+\n",
      "English Hindi Dictionary : 10,000,000+\n",
      "English to Hindi Dictionary : 5,000,000+\n",
      "EP Research Service : 1,000+\n",
      "Hymnes et Louanges : 100,000+\n",
      "EU Charter : 1,000+\n",
      "EU Data Protection : 1,000+\n",
      "EU IP Codes : 100+\n",
      "EW PDF : 5+\n",
      "BakaReader EX : 100,000+\n",
      "EZ Quran : 50,000+\n",
      "FA Part 1 & 2 Past Papers Solved Free – Offline : 5,000+\n",
      "La Fe de Jesus : 1,000+\n",
      "La Fe de Jesús : 500+\n",
      "Le Fe de Jesus : 500+\n",
      "Florida - Pocket Brainbook : 1,000+\n",
      "Florida Statutes (FL Code) : 1,000+\n",
      "English To Shona Dictionary : 10,000+\n",
      "Greek Bible FP (Audio) : 1,000+\n",
      "Golden Dictionary (FR-AR) : 500,000+\n",
      "Fanfic-FR : 5,000+\n",
      "Bulgarian French Dictionary Fr : 10,000+\n",
      "Chemin (fr) : 1,000+\n",
      "The SCP Foundation DB fr nn5n : 1,000+\n"
     ]
    }
   ],
   "source": [
    "for app in final_google:\n",
    "    \n",
    "    if app[1] == \"BOOKS_AND_REFERENCE\":\n",
    "        \n",
    "        print(app[0], \":\", app[5])\n",
    "        "
   ]
  },
  {
   "cell_type": "code",
   "execution_count": 234,
   "metadata": {},
   "outputs": [
    {
     "name": "stdout",
     "output_type": "stream",
     "text": [
      "Google Play Books : 1,000,000,000+\n",
      "Bible : 100,000,000+\n",
      "Amazon Kindle : 100,000,000+\n",
      "Wattpad 📖 Free Books : 100,000,000+\n",
      "Audiobooks from Audible : 100,000,000+\n"
     ]
    }
   ],
   "source": [
    "for app in final_google:\n",
    "    \n",
    "    if app[1] == 'BOOKS_AND_REFERENCE' and (app[5] == '1,000,000,000+'\n",
    "                                            or app[5] == '500,000,000+'\n",
    "                                            or app[5] == '100,000,000+'):\n",
    "        \n",
    "        print(app[0], ':', app[5])"
   ]
  },
  {
   "cell_type": "markdown",
   "metadata": {},
   "source": [
    "> However, it looks like there are only a few very popular apps, so this market still shows potential. Let's try to get some app ideas based on the kind of apps that are somewhere in the middle in terms of popularity (between 1,000,000 and 100,000,000 downloads):"
   ]
  },
  {
   "cell_type": "code",
   "execution_count": 236,
   "metadata": {},
   "outputs": [
    {
     "name": "stdout",
     "output_type": "stream",
     "text": [
      "Wikipedia : 10,000,000+\n",
      "Cool Reader : 10,000,000+\n",
      "Book store : 1,000,000+\n",
      "FBReader: Favorite Book Reader : 10,000,000+\n",
      "Free Books - Spirit Fanfiction and Stories : 1,000,000+\n",
      "AlReader -any text book reader : 5,000,000+\n",
      "FamilySearch Tree : 1,000,000+\n",
      "Cloud of Books : 1,000,000+\n",
      "ReadEra – free ebook reader : 1,000,000+\n",
      "Ebook Reader : 5,000,000+\n",
      "Read books online : 5,000,000+\n",
      "eBoox: book reader fb2 epub zip : 1,000,000+\n",
      "All Maths Formulas : 1,000,000+\n",
      "Ancestry : 5,000,000+\n",
      "HTC Help : 10,000,000+\n",
      "Moon+ Reader : 10,000,000+\n",
      "English-Myanmar Dictionary : 1,000,000+\n",
      "Golden Dictionary (EN-AR) : 1,000,000+\n",
      "All Language Translator Free : 1,000,000+\n",
      "Aldiko Book Reader : 10,000,000+\n",
      "Dictionary - WordWeb : 5,000,000+\n",
      "50000 Free eBooks & Free AudioBooks : 5,000,000+\n",
      "Al-Quran (Free) : 10,000,000+\n",
      "Al Quran Indonesia : 10,000,000+\n",
      "Al'Quran Bahasa Indonesia : 10,000,000+\n",
      "Al Quran Al karim : 1,000,000+\n",
      "Al Quran : EAlim - Translations & MP3 Offline : 5,000,000+\n",
      "Koran Read &MP3 30 Juz Offline : 1,000,000+\n",
      "Hafizi Quran 15 lines per page : 1,000,000+\n",
      "Quran for Android : 10,000,000+\n",
      "Satellite AR : 1,000,000+\n",
      "Oxford A-Z of English Usage : 1,000,000+\n",
      "Dictionary.com: Find Definitions for English Words : 10,000,000+\n",
      "English Dictionary - Offline : 10,000,000+\n",
      "Bible KJV : 5,000,000+\n",
      "NOOK: Read eBooks & Magazines : 10,000,000+\n",
      "Brilliant Quotes: Life, Love, Family & Motivation : 1,000,000+\n",
      "Stats Royale for Clash Royale : 1,000,000+\n",
      "Dictionary : 10,000,000+\n",
      "wikiHow: how to do anything : 1,000,000+\n",
      "EGW Writings : 1,000,000+\n",
      "My Little Pony AR Guide : 1,000,000+\n",
      "Spanish English Translator : 10,000,000+\n",
      "Dictionary - Merriam-Webster : 10,000,000+\n",
      "JW Library : 10,000,000+\n",
      "Oxford Dictionary of English : Free : 10,000,000+\n",
      "English Hindi Dictionary : 10,000,000+\n",
      "English to Hindi Dictionary : 5,000,000+\n"
     ]
    }
   ],
   "source": [
    "for app in final_google:\n",
    "    \n",
    "    if app[1] == 'BOOKS_AND_REFERENCE' and (app[5] == '1,000,000+'\n",
    "                                            or app[5] == '5,000,000+'\n",
    "                                            or app[5] == '10,000,000+'\n",
    "                                            or app[5] == '50,000,000+'):\n",
    "        \n",
    "        print(app[0], ':', app[5])"
   ]
  },
  {
   "cell_type": "markdown",
   "metadata": {},
   "source": [
    ">This niche seems to be dominated by software for processing and reading ebooks, as well as various collections of libraries and dictionaries, so it's probably not a good idea to build similar apps since there'll be some significant competition.\n",
    ">>We also notice there are quite a few apps built around the book Quran, which suggests that building an app around a popular book can be profitable. It seems that taking a popular book (perhaps a more recent book) and turning it into an app could be profitable for both the Google Play and the App Store markets.\n",
    ">>>However, it looks like the market is already full of libraries, so we need to add some special features besides the raw version of the book. This might include daily quotes from the book, an audio version of the book, quizzes on the book, a forum where people can discuss the book, etc."
   ]
  },
  {
   "cell_type": "markdown",
   "metadata": {},
   "source": [
    "# Conclusions..."
   ]
  },
  {
   "cell_type": "markdown",
   "metadata": {},
   "source": [
    ">In this project, we analyzed data about the App Store and Google Play mobile apps with the goal of recommending an app profile that can be profitable for both markets.\n",
    "\n",
    ">We concluded that taking a popular book (perhaps a more recent book) and turning it into an app could be profitable for both the Google Play and the App Store markets. The markets are already full of libraries, so we need to add some special features besides the raw version of the book. This might include daily quotes from the book, an audio version of the book, quizzes on the book, a forum where people can discuss the book, etc."
   ]
  }
 ],
 "metadata": {
  "kernelspec": {
   "display_name": "Python 3",
   "language": "python",
   "name": "python3"
  },
  "language_info": {
   "codemirror_mode": {
    "name": "ipython",
    "version": 3
   },
   "file_extension": ".py",
   "mimetype": "text/x-python",
   "name": "python",
   "nbconvert_exporter": "python",
   "pygments_lexer": "ipython3",
   "version": "3.7.6"
  }
 },
 "nbformat": 4,
 "nbformat_minor": 4
}
